{
 "cells": [
  {
   "cell_type": "markdown",
   "metadata": {},
   "source": [
    "# 以太坊区块链性能优化 EthOptimize "
   ]
  },
  {
   "cell_type": "markdown",
   "metadata": {},
   "source": [
    "环境的基本信息如下表所示"
   ]
  },
  {
   "cell_type": "markdown",
   "metadata": {},
   "source": [
    "| Info | Detail |\n",
    "|----------|----------|\n",
    "| action space    | Discrete(5)      |\n",
    "| Observation shape    | (2, )     |\n",
    "| Observation High    | [300000, 25]     |\n",
    "| Observation Low    | [150000, 5]     |\n",
    "| Import    | gym.make(\"EthOptimize\")     |"
   ]
  },
  {
   "cell_type": "markdown",
   "metadata": {},
   "source": [
    "## Description"
   ]
  },
  {
   "cell_type": "markdown",
   "metadata": {},
   "source": [
    "现有对以太坊区块链不同负载环境下的性能数据进行测试，且具有不同的交易吞吐量（TPS），为了获得较高的交易吞吐量，需要学习如何调整已有的控制参数：区块大小以及出块间隔，来获得更高的tps。在场景测试时，选取的区块大小和出块间隔参数是离散的。"
   ]
  },
  {
   "cell_type": "markdown",
   "metadata": {},
   "source": [
    "## Action Space"
   ]
  },
  {
   "cell_type": "markdown",
   "metadata": {},
   "source": [
    "有五个离散的操作：增加区块大小，减小区块大小、增加出块间隔，减小出块间隔，DoNothing。"
   ]
  },
  {
   "cell_type": "markdown",
   "metadata": {},
   "source": [
    "## Observation Space"
   ]
  },
  {
   "cell_type": "markdown",
   "metadata": {},
   "source": [
    "状态是一个二维向量：区块大小（blocksize），出块间隔（blocktime）"
   ]
  },
  {
   "cell_type": "markdown",
   "metadata": {},
   "source": [
    "## Rewards"
   ]
  },
  {
   "cell_type": "markdown",
   "metadata": {},
   "source": [
    "（需要讨论有几种情况，哪种情况加奖励，哪种减少奖励，例如tps增加获得10点，减少tps扣50点，区块大小和区块间隔的值超过上下界扣100等）"
   ]
  },
  {
   "cell_type": "markdown",
   "metadata": {},
   "source": [
    "## Starting State"
   ]
  },
  {
   "cell_type": "markdown",
   "metadata": {},
   "source": [
    "在对应控制参数的区间内取随机的一个状态作为开始状态"
   ]
  },
  {
   "cell_type": "markdown",
   "metadata": {},
   "source": [
    "## Episode End"
   ]
  },
  {
   "cell_type": "markdown",
   "metadata": {},
   "source": [
    "讨论当什么时候episode结束，初步给出如下限制：\n",
    "1. 当区块大小超过上下界时\n",
    "2. 当区块间隔超过上下界时\n",
    "3. episode的上限（即当episode达到多少时不再训练）"
   ]
  },
  {
   "cell_type": "markdown",
   "metadata": {},
   "source": [
    "具体参考案例如下：\n",
    "1. [自定义一个强化学习环境](https://zhuanlan.zhihu.com/p/33553076)\n",
    "2. [OpenAI Gym库文档经典案例](https://www.gymlibrary.dev/environments/classic_control/)"
   ]
  }
 ],
 "metadata": {
  "kernelspec": {
   "display_name": "BASE_ENV",
   "language": "python",
   "name": "base_env"
  },
  "language_info": {
   "name": "python",
   "version": "3.9.7"
  }
 },
 "nbformat": 4,
 "nbformat_minor": 2
}
